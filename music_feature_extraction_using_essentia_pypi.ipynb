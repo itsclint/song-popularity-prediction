{
  "nbformat": 4,
  "nbformat_minor": 0,
  "metadata": {
    "colab": {
      "name": "music feature extraction using essentia.pypi",
      "version": "0.3.2",
      "provenance": [],
      "include_colab_link": true
    },
    "kernelspec": {
      "name": "python3",
      "display_name": "Python 3"
    },
    "accelerator": "GPU"
  },
  "cells": [
    {
      "cell_type": "markdown",
      "metadata": {
        "id": "view-in-github",
        "colab_type": "text"
      },
      "source": [
        "<a href=\"https://colab.research.google.com/github/itsclint/song-popularity-prediction/blob/master/music_feature_extraction_using_essentia_pypi.ipynb\" target=\"_parent\"><img src=\"https://colab.research.google.com/assets/colab-badge.svg\" alt=\"Open In Colab\"/></a>"
      ]
    },
    {
      "cell_type": "code",
      "metadata": {
        "id": "svnFmr9MG8KC",
        "colab_type": "code",
        "colab": {
          "base_uri": "https://localhost:8080/",
          "height": 184
        },
        "outputId": "91e82186-24a9-4821-c825-b01f2430d442"
      },
      "source": [
        "#install essentia\n",
        "pip install essentia"
      ],
      "execution_count": 2,
      "outputs": [
        {
          "output_type": "stream",
          "text": [
            "Collecting essentia\n",
            "\u001b[?25l  Downloading https://files.pythonhosted.org/packages/bd/58/7ee49e38793bf16136bd88061f1c0b90cf42e7de6c8d3a3a12bf9cbe9c85/essentia-2.1b5.dev532-cp36-cp36m-manylinux1_x86_64.whl (11.0MB)\n",
            "\u001b[K     |████████████████████████████████| 11.0MB 3.2MB/s \n",
            "\u001b[?25hRequirement already satisfied: six in /usr/local/lib/python3.6/dist-packages (from essentia) (1.12.0)\n",
            "Requirement already satisfied: numpy>=1.8.2 in /usr/local/lib/python3.6/dist-packages (from essentia) (1.16.4)\n",
            "Requirement already satisfied: pyyaml in /usr/local/lib/python3.6/dist-packages (from essentia) (3.13)\n",
            "Installing collected packages: essentia\n",
            "Successfully installed essentia-2.1b5.dev532\n"
          ],
          "name": "stdout"
        }
      ]
    },
    {
      "cell_type": "code",
      "metadata": {
        "id": "g6w5FKtlG--X",
        "colab_type": "code",
        "colab": {
          "base_uri": "https://localhost:8080/",
          "height": 90
        },
        "outputId": "88a1039e-5a4f-429e-f77b-d60520e3dbb5"
      },
      "source": [
        "#install pydub for converting mp3 files to wav \n",
        "pip install pydub"
      ],
      "execution_count": 3,
      "outputs": [
        {
          "output_type": "stream",
          "text": [
            "Collecting pydub\n",
            "  Downloading https://files.pythonhosted.org/packages/79/db/eaf620b73a1eec3c8c6f8f5b0b236a50f9da88ad57802154b7ba7664d0b8/pydub-0.23.1-py2.py3-none-any.whl\n",
            "Installing collected packages: pydub\n",
            "Successfully installed pydub-0.23.1\n"
          ],
          "name": "stdout"
        }
      ]
    },
    {
      "cell_type": "code",
      "metadata": {
        "id": "bF5DVIFIHJG0",
        "colab_type": "code",
        "colab": {
          "base_uri": "https://localhost:8080/",
          "height": 35
        },
        "outputId": "4abb3820-9754-46fa-eec6-403934e5893f"
      },
      "source": [
        "#convert mp3 file to  wave file\n",
        "from pydub import AudioSegment\n",
        "sound = AudioSegment.from_mp3(\"Kygo-Carry-On-ft-Rita-Ora.mp3\")\n",
        "sound.export(\"Kygo-Carry-On-ft-Rita-Ora.wav\", format=\"wav\")"
      ],
      "execution_count": 5,
      "outputs": [
        {
          "output_type": "execute_result",
          "data": {
            "text/plain": [
              "<_io.BufferedRandom name='Kygo-Carry-On-ft-Rita-Ora.wav'>"
            ]
          },
          "metadata": {
            "tags": []
          },
          "execution_count": 5
        }
      ]
    },
    {
      "cell_type": "code",
      "metadata": {
        "id": "LtTEbWITHSrc",
        "colab_type": "code",
        "colab": {}
      },
      "source": [
        "import essentia\n",
        "import essentia.standard as es\n",
        "\n",
        "# Compute all features, aggregate only 'mean' and 'stdev' statistics for all low-level, rhythm and tonal frame features\n",
        "features, features_frames = es.MusicExtractor(lowlevelStats=['mean', 'stdev'],\n",
        "                                              rhythmStats=['mean', 'stdev'],\n",
        "                                              tonalStats=['mean', 'stdev'])(\"Kygo-Carry-On-ft-Rita-Ora.wav\")\n"
      ],
      "execution_count": 0,
      "outputs": []
    },
    {
      "cell_type": "code",
      "metadata": {
        "id": "K428MFVFH3Gv",
        "colab_type": "code",
        "colab": {
          "base_uri": "https://localhost:8080/",
          "height": 256
        },
        "outputId": "6ceadaa5-5bb8-483c-fcaf-8b775b34a9b4"
      },
      "source": [
        "print(\"Filename:\", features['metadata.tags.file_name'])\n",
        "print(\"-\"*80)\n",
        "print(\"Replay gain:\", features['metadata.audio_properties.replay_gain'])\n",
        "print(\"EBU128 integrated loudness:\", features['lowlevel.loudness_ebu128.integrated'])\n",
        "print(\"EBU128 loudness range:\", features['lowlevel.loudness_ebu128.loudness_range'])\n",
        "print(\"-\"*80)\n",
        "print(\"MFCC mean:\", features['lowlevel.mfcc.mean'])\n",
        "print(\"-\"*80)\n",
        "print(\"TEMPO:\", features['rhythm.bpm'])\n",
        "print(\"Key/scale estimation (using a profile specifically suited for electronic music):\",\n",
        "      features['tonal.key_edma.key'], features['tonal.key_edma.scale'])"
      ],
      "execution_count": 14,
      "outputs": [
        {
          "output_type": "stream",
          "text": [
            "Filename: Kygo-Carry-On-ft-Rita-Ora.wav\n",
            "--------------------------------------------------------------------------------\n",
            "Replay gain: -12.686929702758789\n",
            "EBU128 integrated loudness: -8.792433738708496\n",
            "EBU128 loudness range: 6.113555431365967\n",
            "--------------------------------------------------------------------------------\n",
            "MFCC mean: [-6.8781012e+02  1.3406258e+02  1.5724940e+01  4.4404716e+00\n",
            "  7.8308625e+00 -6.7718964e+00  1.1450775e+00 -6.8084030e+00\n",
            " -1.0037282e+01  1.5050795e+00  5.1999480e-01 -8.4881198e-01\n",
            "  3.2608926e+00]\n",
            "--------------------------------------------------------------------------------\n",
            "TEMPO: 122.01742553710938\n",
            "Key/scale estimation (using a profile specifically suited for electronic music): F major\n"
          ],
          "name": "stdout"
        }
      ]
    },
    {
      "cell_type": "code",
      "metadata": {
        "id": "PSMILZy2KfFp",
        "colab_type": "code",
        "colab": {
          "base_uri": "https://localhost:8080/",
          "height": 35
        },
        "outputId": "c04f5960-088e-4134-fc76-3b05fedb71a0"
      },
      "source": [
        "print(\"danceability\", features['rhythm.danceability'])"
      ],
      "execution_count": 6,
      "outputs": [
        {
          "output_type": "stream",
          "text": [
            "danceability 1.1465306282043457\n"
          ],
          "name": "stdout"
        }
      ]
    },
    {
      "cell_type": "code",
      "metadata": {
        "id": "hbVJ5C6LKmlt",
        "colab_type": "code",
        "colab": {
          "base_uri": "https://localhost:8080/",
          "height": 35
        },
        "outputId": "aea21cd5-12a7-409e-97ae-d1f2c0e7f902"
      },
      "source": [
        "print(\"loudness\", features['lowlevel.average_loudness'])"
      ],
      "execution_count": 7,
      "outputs": [
        {
          "output_type": "stream",
          "text": [
            "loudness 0.7775229215621948\n"
          ],
          "name": "stdout"
        }
      ]
    },
    {
      "cell_type": "code",
      "metadata": {
        "id": "UXeYbrGjK9F3",
        "colab_type": "code",
        "colab": {
          "base_uri": "https://localhost:8080/",
          "height": 35
        },
        "outputId": "59c85ca0-addb-4bd7-9cfe-3c2d9dc14845"
      },
      "source": [
        "print(\"dynamic_complexity\", features['lowlevel.dynamic_complexity'])"
      ],
      "execution_count": 8,
      "outputs": [
        {
          "output_type": "stream",
          "text": [
            "dynamic_complexity 3.630061388015747\n"
          ],
          "name": "stdout"
        }
      ]
    },
    {
      "cell_type": "code",
      "metadata": {
        "id": "6SYww_MLLELG",
        "colab_type": "code",
        "colab": {
          "base_uri": "https://localhost:8080/",
          "height": 35
        },
        "outputId": "49ca57c2-198e-49e9-adf2-29f6fe1ea5ee"
      },
      "source": [
        "print(\"duration\", features['metadata.audio_properties.analysis.length'])"
      ],
      "execution_count": 13,
      "outputs": [
        {
          "output_type": "stream",
          "text": [
            "duration 126.79837036132812\n"
          ],
          "name": "stdout"
        }
      ]
    },
    {
      "cell_type": "code",
      "metadata": {
        "id": "oLflzKz0LMCo",
        "colab_type": "code",
        "colab": {
          "base_uri": "https://localhost:8080/",
          "height": 254
        },
        "outputId": "21f93a34-94ff-4aac-811a-9e61846634ef"
      },
      "source": [
        "pip install wave"
      ],
      "execution_count": 10,
      "outputs": [
        {
          "output_type": "stream",
          "text": [
            "Collecting wave\n",
            "  Downloading https://files.pythonhosted.org/packages/df/33/5a06e0c47a147b2683876ba7c576fad13e92b0b16755eb431e56c341e0cf/Wave-0.0.2.tar.gz\n",
            "Building wheels for collected packages: wave\n",
            "  Building wheel for wave (setup.py) ... \u001b[?25l\u001b[?25hdone\n",
            "  Stored in directory: /root/.cache/pip/wheels/8c/2e/ad/d96151afb1fdccf126346b26eabb91fec3c5ce5cbee7287fbf\n",
            "Successfully built wave\n",
            "Installing collected packages: wave\n",
            "Successfully installed wave-0.0.2\n"
          ],
          "name": "stdout"
        },
        {
          "output_type": "display_data",
          "data": {
            "application/vnd.colab-display-data+json": {
              "pip_warning": {
                "packages": [
                  "wave"
                ]
              }
            }
          },
          "metadata": {
            "tags": []
          }
        }
      ]
    },
    {
      "cell_type": "code",
      "metadata": {
        "id": "cZqMeZJ6NwL2",
        "colab_type": "code",
        "colab": {
          "base_uri": "https://localhost:8080/",
          "height": 35
        },
        "outputId": "0a32cfd1-876c-4c95-af46-6a950a41fab2"
      },
      "source": [
        "import wave\n",
        "import contextlib\n",
        "fname = 'Kygo-Carry-On-ft-Rita-Ora.wav'\n",
        "with contextlib.closing(wave.open(fname,'r')) as f:\n",
        "    frames = f.getnframes()\n",
        "    rate = f.getframerate()\n",
        "    duration = frames / float(rate)\n",
        "    print(duration)"
      ],
      "execution_count": 11,
      "outputs": [
        {
          "output_type": "stream",
          "text": [
            "126.79836734693878\n"
          ],
          "name": "stdout"
        }
      ]
    },
    {
      "cell_type": "code",
      "metadata": {
        "id": "NyWdxu50N-Ot",
        "colab_type": "code",
        "colab": {}
      },
      "source": [
        ""
      ],
      "execution_count": 0,
      "outputs": []
    }
  ]
}
